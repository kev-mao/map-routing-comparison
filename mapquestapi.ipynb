{
 "cells": [
  {
   "cell_type": "code",
   "execution_count": 2,
   "metadata": {},
   "outputs": [
    {
     "name": "stdout",
     "output_type": "stream",
     "text": [
      "{'route': {'sessionId': 'AIgA5wcAAMMAAAAOAAAADQAAAJQAAAB42mOYwsDAyMTAwMCekVqUapWce-aHiggDAwPDv7hv87nSE56U1lxr8QTR1ddaPBmwAJhGLe02WRA_z6S0juG0YGPph3sLPFsFG0ul7y_AqhEE1nfpfqpmYGA4ID5ZhIGBiYmBoUGAybOBBQC9NiOvWPqFHQ:car', 'realTime': 4456, 'distance': 52.8837, 'time': 4456, 'formattedTime': '01:14:16', 'hasHighway': False, 'hasTollRoad': False, 'hasBridge': True, 'hasSeasonalClosure': False, 'hasTunnel': False, 'hasFerry': False, 'hasUnpaved': True, 'hasTimedRestriction': False, 'hasCountryCross': False, 'legs': [{'index': 0, 'hasTollRoad': False, 'hasHighway': False, 'hasBridge': True, 'hasUnpaved': True, 'hasTunnel': False, 'hasSeasonalClosure': False, 'hasFerry': False, 'hasCountryCross': False, 'hasTimedRestriction': False, 'distance': 52.8837, 'time': 4456, 'formattedTime': '01:14:16', 'origIndex': 0, 'origNarrative': '', 'destIndex': 0, 'destNarrative': '', 'maneuvers': [{'index': 0, 'distance': 0.1988, 'narrative': 'Head south on Sutuko. Go for 0.2 mi.', 'time': 25, 'direction': 4, 'directionName': 'South', 'signs': [], 'maneuverNotes': [], 'formattedTime': '00:00:25', 'transportMode': 'car', 'startPoint': {'lat': 13.38595, 'lng': -14.21424}, 'turnType': 0, 'attributes': 0, 'iconUrl': '', 'streets': ['Sutuko'], 'mapUrl': 'https://www.mapquestapi.com/staticmap/v5/map?key=vchyIPAUOcvpaDy9yNwS12xKnlALqTO1&size=225,160&locations=13.38595,-14.21424|marker-1||13.38313,-14.214839999999999|marker-2||&center=13.38454,-14.21454&defaultMarker=none&zoom=15&session=AIgA5wcAAMMAAAAOAAAADQAAAJQAAAB42mOYwsDAyMTAwMCekVqUapWce-aHiggDAwPDv7hv87nSE56U1lxr8QTR1ddaPBmwAJhGLe02WRA_z6S0juG0YGPph3sLPFsFG0ul7y_AqhEE1nfpfqpmYGA4ID5ZhIGBiYmBoUGAybOBBQC9NiOvWPqFHQ:car'}, {'index': 1, 'distance': 0.4076, 'narrative': \"Continue on N'Ding Madina. Go for 0.4 mi.\", 'time': 51, 'direction': 4, 'directionName': 'South', 'signs': [], 'maneuverNotes': [], 'formattedTime': '00:00:51', 'transportMode': 'car', 'startPoint': {'lat': 13.38313, 'lng': -14.214839999999999}, 'turnType': 0, 'attributes': 0, 'iconUrl': '', 'streets': [\"N'Ding Madina\"], 'mapUrl': 'https://www.mapquestapi.com/staticmap/v5/map?key=vchyIPAUOcvpaDy9yNwS12xKnlALqTO1&size=225,160&locations=13.38313,-14.214839999999999|marker-2||13.37733,-14.215919999999999|marker-3||&center=13.380230000000001,-14.21538&defaultMarker=none&zoom=14&session=AIgA5wcAAMMAAAAOAAAADQAAAJQAAAB42mOYwsDAyMTAwMCekVqUapWce-aHiggDAwPDv7hv87nSE56U1lxr8QTR1ddaPBmwAJhGLe02WRA_z6S0juG0YGPph3sLPFsFG0ul7y_AqhEE1nfpfqpmYGA4ID5ZhIGBiYmBoUGAybOBBQC9NiOvWPqFHQ:car'}, {'index': 2, 'distance': 4.3595, 'narrative': 'Continue on Taibatu. Go for 4.4 mi.', 'time': 548, 'direction': 4, 'directionName': 'South', 'signs': [], 'maneuverNotes': [], 'formattedTime': '00:09:08', 'transportMode': 'car', 'startPoint': {'lat': 13.37733, 'lng': -14.215919999999999}, 'turnType': 0, 'attributes': 0, 'iconUrl': '', 'streets': ['Taibatu'], 'mapUrl': 'https://www.mapquestapi.com/staticmap/v5/map?key=vchyIPAUOcvpaDy9yNwS12xKnlALqTO1&size=225,160&locations=13.37733,-14.215919999999999|marker-3||13.317300000000005,-14.21141|marker-4||&center=13.347315000000002,-14.213664999999999&defaultMarker=none&zoom=10&session=AIgA5wcAAMMAAAAOAAAADQAAAJQAAAB42mOYwsDAyMTAwMCekVqUapWce-aHiggDAwPDv7hv87nSE56U1lxr8QTR1ddaPBmwAJhGLe02WRA_z6S0juG0YGPph3sLPFsFG0ul7y_AqhEE1nfpfqpmYGA4ID5ZhIGBiYmBoUGAybOBBQC9NiOvWPqFHQ:car'}, {'index': 3, 'distance': 0.389, 'narrative': 'Continue on Porufu Bolon. Go for 0.4 mi.', 'time': 64, 'direction': 4, 'directionName': 'South', 'signs': [], 'maneuverNotes': [], 'formattedTime': '00:01:04', 'transportMode': 'car', 'startPoint': {'lat': 13.317300000000005, 'lng': -14.21141}, 'turnType': 0, 'attributes': 0, 'iconUrl': '', 'streets': ['Porufu Bolon'], 'mapUrl': 'https://www.mapquestapi.com/staticmap/v5/map?key=vchyIPAUOcvpaDy9yNwS12xKnlALqTO1&size=225,160&locations=13.317300000000005,-14.21141|marker-4||13.311760000000005,-14.21142|marker-5||&center=13.314530000000005,-14.211415&defaultMarker=none&zoom=14&session=AIgA5wcAAMMAAAAOAAAADQAAAJQAAAB42mOYwsDAyMTAwMCekVqUapWce-aHiggDAwPDv7hv87nSE56U1lxr8QTR1ddaPBmwAJhGLe02WRA_z6S0juG0YGPph3sLPFsFG0ul7y_AqhEE1nfpfqpmYGA4ID5ZhIGBiYmBoUGAybOBBQC9NiOvWPqFHQ:car'}, {'index': 4, 'distance': 0.0988, 'narrative': 'Continue toward South Bank Rd. Go for 522 ft.', 'time': 20, 'direction': 4, 'directionName': 'South', 'signs': [], 'maneuverNotes': [], 'formattedTime': '00:00:20', 'transportMode': 'car', 'startPoint': {'lat': 13.311760000000005, 'lng': -14.21142}, 'turnType': 0, 'attributes': 0, 'iconUrl': '', 'streets': [], 'mapUrl': 'https://www.mapquestapi.com/staticmap/v5/map?key=vchyIPAUOcvpaDy9yNwS12xKnlALqTO1&size=225,160&locations=13.311760000000005,-14.21142|marker-5||13.310340000000004,-14.21142|marker-6||&center=13.311050000000005,-14.21142&defaultMarker=none&zoom=16&session=AIgA5wcAAMMAAAAOAAAADQAAAJQAAAB42mOYwsDAyMTAwMCekVqUapWce-aHiggDAwPDv7hv87nSE56U1lxr8QTR1ddaPBmwAJhGLe02WRA_z6S0juG0YGPph3sLPFsFG0ul7y_AqhEE1nfpfqpmYGA4ID5ZhIGBiYmBoUGAybOBBQC9NiOvWPqFHQ:car'}, {'index': 5, 'distance': 44.8015, 'narrative': 'Turn right onto South Bank Rd. Go for 44.8 mi.', 'time': 3514, 'direction': 7, 'directionName': 'West', 'signs': [], 'maneuverNotes': [], 'formattedTime': '00:58:34', 'transportMode': 'car', 'startPoint': {'lat': 13.310340000000004, 'lng': -14.21142}, 'turnType': 2, 'attributes': 0, 'iconUrl': '', 'streets': ['South Bank Rd', 'Alohungari', 'Nafuka', 'Nafugan', 'Knube', 'Kanube', 'Sotuma Sere', 'Hela Kunda', 'Sambel Kunda', 'Wellingara Gallow', 'Bakadaji', 'Domel Jawo', 'Sare Koki', 'Gillangel', 'Yorro Pendeh', 'Sare Mansala', 'Sare Ganya', 'Temanto Demba', 'Sare Demba', \"Sare Samba Tene M'Balde\", 'Sare Mansong', 'Santanto Jamuya Kande', 'Madina Fula Balde', 'Jabel Kunda', 'Mabali Kotor', 'Charno Musa', 'Alla Tenta', 'Itc', 'Sulolor Fula Kunda', 'Ker Abdu', 'Fuka'], 'mapUrl': 'https://www.mapquestapi.com/staticmap/v5/map?key=vchyIPAUOcvpaDy9yNwS12xKnlALqTO1&size=225,160&locations=13.310340000000004,-14.21142|marker-6||13.506499999999994,-14.753979999999999|marker-7||&center=13.40842,-14.4827&defaultMarker=none&zoom=7&session=AIgA5wcAAMMAAAAOAAAADQAAAJQAAAB42mOYwsDAyMTAwMCekVqUapWce-aHiggDAwPDv7hv87nSE56U1lxr8QTR1ddaPBmwAJhGLe02WRA_z6S0juG0YGPph3sLPFsFG0ul7y_AqhEE1nfpfqpmYGA4ID5ZhIGBiYmBoUGAybOBBQC9NiOvWPqFHQ:car'}, {'index': 6, 'distance': 0.7954, 'narrative': 'Turn right toward Sankuli Kunda. Go for 0.8 mi.', 'time': 71, 'direction': 2, 'directionName': 'Northwest', 'signs': [], 'maneuverNotes': [], 'formattedTime': '00:01:11', 'transportMode': 'car', 'startPoint': {'lat': 13.506499999999994, 'lng': -14.753979999999999}, 'turnType': 2, 'attributes': 0, 'iconUrl': '', 'streets': [], 'mapUrl': 'https://www.mapquestapi.com/staticmap/v5/map?key=vchyIPAUOcvpaDy9yNwS12xKnlALqTO1&size=225,160&locations=13.506499999999994,-14.753979999999999|marker-7||13.514969999999993,-14.761220000000002|marker-8||&center=13.510734999999993,-14.7576&defaultMarker=none&zoom=13&session=AIgA5wcAAMMAAAAOAAAADQAAAJQAAAB42mOYwsDAyMTAwMCekVqUapWce-aHiggDAwPDv7hv87nSE56U1lxr8QTR1ddaPBmwAJhGLe02WRA_z6S0juG0YGPph3sLPFsFG0ul7y_AqhEE1nfpfqpmYGA4ID5ZhIGBiYmBoUGAybOBBQC9NiOvWPqFHQ:car'}, {'index': 7, 'distance': 1.6044, 'narrative': 'Continue on Sankuli Kunda. Go for 1.6 mi.', 'time': 142, 'direction': 1, 'directionName': 'North', 'signs': [], 'maneuverNotes': [], 'formattedTime': '00:02:22', 'transportMode': 'car', 'startPoint': {'lat': 13.514969999999993, 'lng': -14.761220000000002}, 'turnType': 0, 'attributes': 0, 'iconUrl': '', 'streets': ['Sankuli Kunda'], 'mapUrl': 'https://www.mapquestapi.com/staticmap/v5/map?key=vchyIPAUOcvpaDy9yNwS12xKnlALqTO1&size=225,160&locations=13.514969999999993,-14.761220000000002|marker-8||13.536989999999992,-14.760979999999996|marker-9||&center=13.525979999999993,-14.761099999999999&defaultMarker=none&zoom=12&session=AIgA5wcAAMMAAAAOAAAADQAAAJQAAAB42mOYwsDAyMTAwMCekVqUapWce-aHiggDAwPDv7hv87nSE56U1lxr8QTR1ddaPBmwAJhGLe02WRA_z6S0juG0YGPph3sLPFsFG0ul7y_AqhEE1nfpfqpmYGA4ID5ZhIGBiYmBoUGAybOBBQC9NiOvWPqFHQ:car'}, {'index': 8, 'distance': 0.2287, 'narrative': 'Continue on Georgetown. Go for 0.2 mi.', 'time': 21, 'direction': 3, 'directionName': 'Northeast', 'signs': [], 'maneuverNotes': [], 'formattedTime': '00:00:21', 'transportMode': 'car', 'startPoint': {'lat': 13.536989999999992, 'lng': -14.760979999999996}, 'turnType': 0, 'attributes': 0, 'iconUrl': '', 'streets': ['Georgetown'], 'mapUrl': 'https://www.mapquestapi.com/staticmap/v5/map?key=vchyIPAUOcvpaDy9yNwS12xKnlALqTO1&size=225,160&locations=13.536989999999992,-14.760979999999996|marker-9||13.539943999999991,-14.759755999999996|marker-10||&center=13.538466999999992,-14.760367999999996&defaultMarker=none&zoom=15&session=AIgA5wcAAMMAAAAOAAAADQAAAJQAAAB42mOYwsDAyMTAwMCekVqUapWce-aHiggDAwPDv7hv87nSE56U1lxr8QTR1ddaPBmwAJhGLe02WRA_z6S0juG0YGPph3sLPFsFG0ul7y_AqhEE1nfpfqpmYGA4ID5ZhIGBiYmBoUGAybOBBQC9NiOvWPqFHQ:car'}, {'index': 9, 'distance': 0, 'narrative': 'Arrive at your destination.', 'time': 0, 'direction': 0, 'directionName': 'None', 'signs': [], 'maneuverNotes': [], 'formattedTime': '00:00:00', 'transportMode': 'car', 'startPoint': {'lat': 13.539943999999991, 'lng': -14.759755999999996}, 'turnType': 0, 'attributes': 0, 'iconUrl': '', 'streets': []}]}], 'options': {'routeType': 'FASTEST', 'enhancedNarrative': False, 'unit': 'M', 'locale': 'en_US', 'doReverseGeocode': False, 'narrativeType': 'text', 'walkingSpeed': -1, 'highwayEfficiency': 22, 'avoids': False, 'generalize': -1, 'shapeFormat': 'raw', 'useTraffic': False, 'timeType': 0, 'dateType': 0, 'manMaps': True, 'sideOfStreetDisplay': True}, 'boundingBox': {'ul': {'lat': 13.539943999999991, 'lng': -14.764439999999999}, 'lr': {'lat': 13.27948, 'lng': -14.20955}}, 'name': 'South Bank Rd', 'maxRoutes': '', 'locations': [{'street': '', 'adminArea6': 'Sutuko', 'adminArea6Type': 'Neighborhood', 'adminArea5': 'Wuli', 'adminArea5Type': 'City', 'adminArea4': 'Basse', 'adminArea4Type': 'County', 'adminArea3': '', 'adminArea3Type': 'State', 'adminArea1': 'GM', 'adminArea1Type': 'Country', 'postalCode': '', 'geocodeQualityCode': 'A6XAX', 'geocodeQuality': 'NEIGHBORHOOD', 'dragPoint': False, 'sideOfStreet': 'N', 'linkId': '0', 'unknownInput': '', 'type': 's', 'latLng': {'lat': 13.38595, 'lng': -14.21424}, 'displayLatLng': {'lat': 13.38595, 'lng': -14.21424}, 'mapUrl': ''}, {'street': '', 'adminArea6': '', 'adminArea6Type': 'Neighborhood', 'adminArea5': 'Janjan Bureh', 'adminArea5Type': 'City', 'adminArea4': 'Janjan Bureh', 'adminArea4Type': 'County', 'adminArea3': '', 'adminArea3Type': 'State', 'adminArea1': 'GM', 'adminArea1Type': 'Country', 'postalCode': '', 'geocodeQualityCode': 'A5XAX', 'geocodeQuality': 'CITY', 'dragPoint': False, 'sideOfStreet': 'N', 'linkId': '0', 'unknownInput': '', 'type': 's', 'latLng': {'lat': 13.53994, 'lng': -14.75975}, 'displayLatLng': {'lat': 13.53994, 'lng': -14.75975}, 'mapUrl': ''}], 'locationSequence': [0, 1]}, 'info': {'statuscode': 0, 'copyright': {'text': '© 2023 MapQuest, Inc.', 'imageUrl': 'http://api.mqcdn.com/res/mqlogo.gif', 'imageAltText': '© 2023 MapQuest, Inc.'}, 'messages': []}}\n",
      "Apple Maps:\n",
      "Distance: 52.8837\n",
      "Estimated Travel Time: 01:14:16\n"
     ]
    }
   ],
   "source": [
    "import requests\n",
    "\n",
    "MAPQUEST_API_KEY = 'vchyIPAUOcvpaDy9yNwS12xKnlALqTO1'\n",
    "\n",
    "start_location = \"Sutuko, The Gambia\"\n",
    "end_location = \"Janjanbureh, The Gambia\"\n",
    "\n",
    "def get_route_estimation(start, end):\n",
    "    url = f'http://www.mapquestapi.com/directions/v2/route?key={MAPQUEST_API_KEY}&from={start}&to={end}&outFormat=json&routeType=fastest&doReverseGeocode=false&enhancedNarrative=false&locale=en_US&unit=m'\n",
    "    \n",
    "    response = requests.get(url)\n",
    "    data = response.json()\n",
    "    \n",
    "    print(data)\n",
    "\n",
    "    if data['info']['statuscode'] == 0:\n",
    "        route = data['route']\n",
    "        distance = route['distance']\n",
    "        formatted_time = route['formattedTime']\n",
    "        return distance, formatted_time\n",
    "    else:\n",
    "        return None, None\n",
    "apple_distance, apple_time = get_route_estimation(start_location, end_location)\n",
    "\n",
    "if apple_distance:\n",
    "    print('Apple Maps:')\n",
    "    print('Distance:', apple_distance)\n",
    "    print('Estimated Travel Time:', apple_time)\n",
    "else:\n",
    "    print('Error retrieving route estimations.')"
   ]
  },
  {
   "cell_type": "code",
   "execution_count": 15,
   "metadata": {},
   "outputs": [],
   "source": [
    "apple_distance, apple_time = get_route_estimation(start_location, end_location)"
   ]
  }
 ],
 "metadata": {
  "kernelspec": {
   "display_name": "Python 3",
   "language": "python",
   "name": "python3"
  },
  "language_info": {
   "codemirror_mode": {
    "name": "ipython",
    "version": 3
   },
   "file_extension": ".py",
   "mimetype": "text/x-python",
   "name": "python",
   "nbconvert_exporter": "python",
   "pygments_lexer": "ipython3",
   "version": "3.11.4"
  },
  "orig_nbformat": 4
 },
 "nbformat": 4,
 "nbformat_minor": 2
}
